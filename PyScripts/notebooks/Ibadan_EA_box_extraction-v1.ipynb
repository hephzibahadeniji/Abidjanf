{
 "cells": [
  {
   "cell_type": "markdown",
   "metadata": {},
   "source": [
    "## Import the required packages"
   ]
  },
  {
   "cell_type": "code",
   "execution_count": 15,
   "metadata": {
    "execution": {
     "iopub.execute_input": "2024-04-26T14:43:34.662741Z",
     "iopub.status.busy": "2024-04-26T14:43:34.662351Z",
     "iopub.status.idle": "2024-04-26T14:43:34.674311Z",
     "shell.execute_reply": "2024-04-26T14:43:34.673686Z",
     "shell.execute_reply.started": "2024-04-26T14:43:34.662709Z"
    }
   },
   "outputs": [],
   "source": [
    "import os\n",
    "import sys\n",
    "import pandas as pd\n",
    "import numpy as np\n",
    "import geopandas as gpd\n",
    "import matplotlib.pyplot as plt\n",
    "from shapely.geometry import Point\n",
    "import math\n",
    "import json\n",
    "import pandas as pd"
   ]
  },
  {
   "cell_type": "code",
   "execution_count": null,
   "metadata": {},
   "outputs": [],
   "source": []
  },
  {
   "cell_type": "code",
   "execution_count": null,
   "metadata": {},
   "outputs": [],
   "source": []
  },
  {
   "cell_type": "markdown",
   "metadata": {},
   "source": [
    "## Load the data"
   ]
  },
  {
   "cell_type": "code",
   "execution_count": 16,
   "metadata": {
    "execution": {
     "iopub.execute_input": "2024-04-26T14:43:34.835674Z",
     "iopub.status.busy": "2024-04-26T14:43:34.834968Z",
     "iopub.status.idle": "2024-04-26T14:43:34.949330Z",
     "shell.execute_reply": "2024-04-26T14:43:34.949054Z",
     "shell.execute_reply.started": "2024-04-26T14:43:34.835625Z"
    }
   },
   "outputs": [],
   "source": [
    "fname = \"../data-in/ibadan_EAs_of_interest_v2/shapefile_of_Ibadan_EAs_of_interest_v2.shx\"\n",
    "ib_data = gpd.read_file(fname)"
   ]
  },
  {
   "cell_type": "code",
   "execution_count": 17,
   "metadata": {
    "execution": {
     "iopub.execute_input": "2024-04-26T14:43:37.671936Z",
     "iopub.status.busy": "2024-04-26T14:43:37.670564Z",
     "iopub.status.idle": "2024-04-26T14:43:37.701303Z",
     "shell.execute_reply": "2024-04-26T14:43:37.699777Z",
     "shell.execute_reply.started": "2024-04-26T14:43:37.671882Z"
    }
   },
   "outputs": [
    {
     "data": {
      "text/html": [
       "<div>\n",
       "<style scoped>\n",
       "    .dataframe tbody tr th:only-of-type {\n",
       "        vertical-align: middle;\n",
       "    }\n",
       "\n",
       "    .dataframe tbody tr th {\n",
       "        vertical-align: top;\n",
       "    }\n",
       "\n",
       "    .dataframe thead th {\n",
       "        text-align: right;\n",
       "    }\n",
       "</style>\n",
       "<table border=\"1\" class=\"dataframe\">\n",
       "  <thead>\n",
       "    <tr style=\"text-align: right;\">\n",
       "      <th></th>\n",
       "      <th>city</th>\n",
       "      <th>ward</th>\n",
       "      <th>ea_code</th>\n",
       "      <th>EAS</th>\n",
       "      <th>Longitude</th>\n",
       "      <th>Latitude</th>\n",
       "      <th>Settlement</th>\n",
       "      <th>geometry</th>\n",
       "    </tr>\n",
       "  </thead>\n",
       "  <tbody>\n",
       "    <tr>\n",
       "      <th>0</th>\n",
       "      <td>Ibadan</td>\n",
       "      <td>Agugu</td>\n",
       "      <td>Ag_001</td>\n",
       "      <td>Opposite Christ the king primary school I</td>\n",
       "      <td>3.919976</td>\n",
       "      <td>7.386031</td>\n",
       "      <td>Slum</td>\n",
       "      <td>POINT (3.91998 7.38603)</td>\n",
       "    </tr>\n",
       "    <tr>\n",
       "      <th>1</th>\n",
       "      <td>Ibadan</td>\n",
       "      <td>Agugu</td>\n",
       "      <td>Ag_002</td>\n",
       "      <td>Beside Christ the King Primary School I</td>\n",
       "      <td>3.920514</td>\n",
       "      <td>7.386621</td>\n",
       "      <td>Slum</td>\n",
       "      <td>POINT (3.92051 7.38662)</td>\n",
       "    </tr>\n",
       "    <tr>\n",
       "      <th>2</th>\n",
       "      <td>Ibadan</td>\n",
       "      <td>Agugu</td>\n",
       "      <td>Ag_003</td>\n",
       "      <td>Behind Christ the kind Primary School I</td>\n",
       "      <td>3.920634</td>\n",
       "      <td>7.385972</td>\n",
       "      <td>Slum</td>\n",
       "      <td>POINT (3.92063 7.38597)</td>\n",
       "    </tr>\n",
       "    <tr>\n",
       "      <th>3</th>\n",
       "      <td>Ibadan</td>\n",
       "      <td>Agugu</td>\n",
       "      <td>Ag_004</td>\n",
       "      <td>Behind The Board of Trade</td>\n",
       "      <td>3.922894</td>\n",
       "      <td>7.386947</td>\n",
       "      <td>Slum</td>\n",
       "      <td>POINT (3.92289 7.38695)</td>\n",
       "    </tr>\n",
       "    <tr>\n",
       "      <th>4</th>\n",
       "      <td>Ibadan</td>\n",
       "      <td>Agugu</td>\n",
       "      <td>Ag_005</td>\n",
       "      <td>Opposite The Board of Trade</td>\n",
       "      <td>3.922421</td>\n",
       "      <td>7.386521</td>\n",
       "      <td>Slum</td>\n",
       "      <td>POINT (3.92242 7.38652)</td>\n",
       "    </tr>\n",
       "  </tbody>\n",
       "</table>\n",
       "</div>"
      ],
      "text/plain": [
       "     city   ward ea_code                                        EAS  \\\n",
       "0  Ibadan  Agugu  Ag_001  Opposite Christ the king primary school I   \n",
       "1  Ibadan  Agugu  Ag_002    Beside Christ the King Primary School I   \n",
       "2  Ibadan  Agugu  Ag_003    Behind Christ the kind Primary School I   \n",
       "3  Ibadan  Agugu  Ag_004                  Behind The Board of Trade   \n",
       "4  Ibadan  Agugu  Ag_005                Opposite The Board of Trade   \n",
       "\n",
       "   Longitude  Latitude Settlement                 geometry  \n",
       "0   3.919976  7.386031       Slum  POINT (3.91998 7.38603)  \n",
       "1   3.920514  7.386621       Slum  POINT (3.92051 7.38662)  \n",
       "2   3.920634  7.385972       Slum  POINT (3.92063 7.38597)  \n",
       "3   3.922894  7.386947       Slum  POINT (3.92289 7.38695)  \n",
       "4   3.922421  7.386521       Slum  POINT (3.92242 7.38652)  "
      ]
     },
     "execution_count": 17,
     "metadata": {},
     "output_type": "execute_result"
    }
   ],
   "source": [
    "ib_data.head()"
   ]
  },
  {
   "cell_type": "code",
   "execution_count": 18,
   "metadata": {
    "execution": {
     "iopub.execute_input": "2024-04-26T14:44:01.301218Z",
     "iopub.status.busy": "2024-04-26T14:44:01.300779Z",
     "iopub.status.idle": "2024-04-26T14:44:01.319741Z",
     "shell.execute_reply": "2024-04-26T14:44:01.319193Z",
     "shell.execute_reply.started": "2024-04-26T14:44:01.301199Z"
    }
   },
   "outputs": [
    {
     "name": "stdout",
     "output_type": "stream",
     "text": [
      "<class 'geopandas.geodataframe.GeoDataFrame'>\n",
      "RangeIndex: 378 entries, 0 to 377\n",
      "Data columns (total 8 columns):\n",
      " #   Column      Non-Null Count  Dtype   \n",
      "---  ------      --------------  -----   \n",
      " 0   city        378 non-null    object  \n",
      " 1   ward        378 non-null    object  \n",
      " 2   ea_code     378 non-null    object  \n",
      " 3   EAS         378 non-null    object  \n",
      " 4   Longitude   378 non-null    float64 \n",
      " 5   Latitude    378 non-null    float64 \n",
      " 6   Settlement  378 non-null    object  \n",
      " 7   geometry    378 non-null    geometry\n",
      "dtypes: float64(2), geometry(1), object(5)\n",
      "memory usage: 23.8+ KB\n"
     ]
    }
   ],
   "source": [
    "ib_data.info()"
   ]
  },
  {
   "cell_type": "code",
   "execution_count": null,
   "metadata": {},
   "outputs": [],
   "source": []
  },
  {
   "cell_type": "markdown",
   "metadata": {},
   "source": [
    "## Helper functions"
   ]
  },
  {
   "cell_type": "code",
   "execution_count": 4,
   "metadata": {
    "execution": {
     "iopub.execute_input": "2024-04-26T14:16:10.655837Z",
     "iopub.status.busy": "2024-04-26T14:16:10.655294Z",
     "iopub.status.idle": "2024-04-26T14:16:10.664153Z",
     "shell.execute_reply": "2024-04-26T14:16:10.662972Z",
     "shell.execute_reply.started": "2024-04-26T14:16:10.655807Z"
    }
   },
   "outputs": [],
   "source": [
    "def generate_rectangle(center_lon, center_lat, width, height):\n",
    "    \"\"\"\n",
    "    Generate the coordinates of a rectangle centered around a given location.\n",
    "    \n",
    "    Parameters:\n",
    "    - center_lon: Longitude of the center point\n",
    "    - center_lat: Latitude of the center point\n",
    "    - width: Width of the rectangle in meters\n",
    "    - height: Height of the rectangle in meters\n",
    "    \n",
    "    Returns:\n",
    "    - List of coordinates representing the rectangle\n",
    "    \"\"\"\n",
    "    # Convert meters to degrees (approximate)\n",
    "    meters_to_degrees_lon = (111320 * math.cos(center_lat * math.pi / 180))\n",
    "    meters_to_degrees_lat = 110574\n",
    "    \n",
    "    # Calculate the coordinates of the rectangle corners\n",
    "    min_lon = center_lon - (width / (2 * meters_to_degrees_lon))\n",
    "    max_lon = center_lon + (width / (2 * meters_to_degrees_lon))\n",
    "    min_lat = center_lat - (height / (2 * meters_to_degrees_lat))\n",
    "    max_lat = center_lat + (height / (2 * meters_to_degrees_lat))\n",
    "    \n",
    "    # Define the rectangle coordinates in counterclockwise direction\n",
    "    rectangle_coordinates = [\n",
    "        [min_lon, min_lat],\n",
    "        [min_lon, max_lat],\n",
    "        [max_lon, max_lat],\n",
    "        [max_lon, min_lat],\n",
    "        [min_lon, min_lat]  # Closing the loop\n",
    "    ]\n",
    "    \n",
    "    return rectangle_coordinates\n",
    "\n",
    "# Example usage:\n",
    "# Given location\n",
    "\n",
    "# center_lon = 3.951372252965484\n",
    "# center_lat = 7.434130780421128\n",
    "\n",
    "# # Generate rectangle with width and height of 20 meters\n",
    "# rectangle_coordinates = generate_rectangle(center_lon, center_lat, 20, 20)\n",
    "# print(rectangle_coordinates)"
   ]
  },
  {
   "cell_type": "code",
   "execution_count": null,
   "metadata": {},
   "outputs": [],
   "source": []
  },
  {
   "cell_type": "code",
   "execution_count": 20,
   "metadata": {
    "execution": {
     "iopub.execute_input": "2024-04-26T14:45:53.393384Z",
     "iopub.status.busy": "2024-04-26T14:45:53.392660Z",
     "iopub.status.idle": "2024-04-26T14:45:53.405999Z",
     "shell.execute_reply": "2024-04-26T14:45:53.405218Z",
     "shell.execute_reply.started": "2024-04-26T14:45:53.393349Z"
    }
   },
   "outputs": [],
   "source": [
    "def df_to_json(df, settings):\n",
    "    \"\"\"\n",
    "    Convert a DataFrame with longitude and latitude columns to a JSON format with specified structure.\n",
    "    \n",
    "    Parameters:\n",
    "    - df: DataFrame containing the data\n",
    "    - setting: include all the feature that need to be included. \n",
    "    - polygon: polygon the polygon shape that needs to be created based on the given latitude and longitude\n",
    "    \n",
    "    Returns:\n",
    "    - JSON formatted data\n",
    "    \"\"\"\n",
    "    features = []\n",
    "    coordinates = settings['extracted_features']\n",
    "    properties = settings['properties_to_include']\n",
    "    sparcity = settings['distance']\n",
    "    \n",
    "    for _, row in df.iterrows():\n",
    "        # Extract longitude and latitude\n",
    "        lon = row[coordinates[0]]\n",
    "        lat = row[coordinates[1]]\n",
    "        \n",
    "        # Create properties dictionary\n",
    "        if properties:\n",
    "            props = {prop: row[prop] for prop in properties}\n",
    "        else:\n",
    "            props = {}\n",
    "        \n",
    "        # Add longitude and latitude to properties\n",
    "        props[coordinates[0]] = lon\n",
    "        props[coordinates[1]] = lat\n",
    "        if settings['shape_type'] == 'Polygon' or settings['shape_type'] == 'Both': \n",
    "            shape = [generate_rectangle(lon, lat, sparcity['width'], sparcity['height'])]\n",
    "            # Create GeoJSON feature\n",
    "            feature = {\n",
    "                \"type\": \"Feature\",\n",
    "                \"properties\": props,\n",
    "                \"geometry\": {\n",
    "                    \"type\": \"Polygon\",\n",
    "                    \"coordinates\": shape\n",
    "                }\n",
    "            }\n",
    "            features.append(feature)\n",
    "        if settings['shape_type'] == \"Point\" or settings['shape_type'] == 'Both': \n",
    "            shape = [lon, lat]\n",
    "            feature = {\n",
    "                \"type\": \"Feature\",\n",
    "                \"properties\": props,\n",
    "                \"geometry\": {\n",
    "                    \"type\": \"Point\",\n",
    "                    \"coordinates\": shape\n",
    "                }\n",
    "            }\n",
    "\n",
    "\n",
    "            features.append(feature)\n",
    "    \n",
    "    # Create FeatureCollection\n",
    "    feature_collection = {\n",
    "        \"type\": \"FeatureCollection\",\n",
    "        \"features\": features\n",
    "    }\n",
    "    \n",
    "    return feature_collection"
   ]
  },
  {
   "cell_type": "code",
   "execution_count": null,
   "metadata": {},
   "outputs": [],
   "source": []
  },
  {
   "cell_type": "code",
   "execution_count": 21,
   "metadata": {
    "execution": {
     "iopub.execute_input": "2024-04-26T15:09:54.204761Z",
     "iopub.status.busy": "2024-04-26T15:09:54.202963Z",
     "iopub.status.idle": "2024-04-26T15:09:54.239809Z",
     "shell.execute_reply": "2024-04-26T15:09:54.239065Z",
     "shell.execute_reply.started": "2024-04-26T15:09:54.204676Z"
    }
   },
   "outputs": [],
   "source": [
    "import geojson\n",
    "\n",
    "def df_to_geojson(df, settings):\n",
    "    \"\"\"\n",
    "    Convert a DataFrame with longitude and latitude columns to a GeoJSON format with specified structure.\n",
    "    \n",
    "    Parameters:\n",
    "    - df: DataFrame containing the data\n",
    "    - setting: include all the feature that need to be included. \n",
    "    - polygon: polygon the polygon shape that needs to be created based on the given latitude and longitude\n",
    "    \n",
    "    Returns:\n",
    "    - GeoJSON FeatureCollection\n",
    "    \"\"\"\n",
    "    features = []\n",
    "    coordinates = settings['extracted_features']\n",
    "    properties = settings['properties_to_include']\n",
    "    sparcity = settings['distance']\n",
    "    \n",
    "    for _, row in df.iterrows():\n",
    "        # Extract longitude and latitude\n",
    "        lon = row[coordinates[0]]\n",
    "        lat = row[coordinates[1]]\n",
    "        \n",
    "        # Create properties dictionary\n",
    "        if properties:\n",
    "            props = {prop: row[prop] for prop in properties}\n",
    "        else:\n",
    "            props = {}\n",
    "        \n",
    "        # Add longitude and latitude to properties\n",
    "        props[coordinates[0]] = lon\n",
    "        props[coordinates[1]] = lat\n",
    "        if settings['shape_type'] == 'Polygon' or settings['shape_type'] == 'Both': \n",
    "            shape = [generate_rectangle(lon, lat, sparcity['width'], sparcity['height'])]\n",
    "            # Create GeoJSON feature\n",
    "            feature = {\n",
    "                \"type\": \"Feature\",\n",
    "                \"properties\": props,\n",
    "                \"geometry\": {\n",
    "                    \"type\": \"Polygon\",\n",
    "                    \"coordinates\": shape\n",
    "                }\n",
    "            }\n",
    "            features.append(feature)\n",
    "        if settings['shape_type'] == \"Point\" or settings['shape_type'] == 'Both': \n",
    "            shape = [lon, lat]\n",
    "            feature = {\n",
    "                \"type\": \"Feature\",\n",
    "                \"properties\": props,\n",
    "                \"geometry\": {\n",
    "                    \"type\": \"Point\",\n",
    "                    \"coordinates\": shape\n",
    "                }\n",
    "            }\n",
    "\n",
    "\n",
    "            features.append(feature)\n",
    "    \n",
    "    # Create FeatureCollection\n",
    "    # feature_collection = {\n",
    "    #     \"type\": \"FeatureCollection\",\n",
    "    #     \"features\": features\n",
    "    # }\n",
    "    # Create FeatureCollection\n",
    "    feature_collection = geojson.FeatureCollection(features)\n",
    "    \n",
    "    return feature_collection"
   ]
  },
  {
   "cell_type": "code",
   "execution_count": null,
   "metadata": {},
   "outputs": [],
   "source": []
  },
  {
   "cell_type": "code",
   "execution_count": null,
   "metadata": {},
   "outputs": [],
   "source": []
  },
  {
   "cell_type": "markdown",
   "metadata": {},
   "source": [
    "### Apply to Ibadan data\n",
    "\n",
    "**Example usage:**\n",
    "\n",
    "* Assuming your DataFrame is named 'df' and contains columns: city, ward, ea_code, EAS, Longitude, Latitude, Settlement, geometry\n",
    "\n",
    "* And you want to include city, ward, ea_code, EAS, Settlement in the properties\n"
   ]
  },
  {
   "cell_type": "markdown",
   "metadata": {},
   "source": [
    "#### JSON Files"
   ]
  },
  {
   "cell_type": "code",
   "execution_count": 35,
   "metadata": {
    "execution": {
     "iopub.execute_input": "2024-04-26T21:19:10.365444Z",
     "iopub.status.busy": "2024-04-26T21:19:10.364882Z",
     "iopub.status.idle": "2024-04-26T21:19:10.409847Z",
     "shell.execute_reply": "2024-04-26T21:19:10.409269Z",
     "shell.execute_reply.started": "2024-04-26T21:19:10.365406Z"
    }
   },
   "outputs": [],
   "source": [
    "### Create JSON data\n",
    "settings = {\"properties_to_include\": [\"city\", \"ward\", 'ea_code', 'EAS', 'Settlement'],\n",
    "            \"extracted_features\": ['Longitude', 'Latitude'],\n",
    "            \"distance\": {'width': 100, 'height': 100}, # Width and height are messured in meters. \n",
    "            \"shape_type\": 'Polygon' # Polygone, Point, Both\n",
    "}\n",
    " \n",
    "json_data = df_to_json(ib_data, settings)\n",
    "\n",
    "### Save JSON to a file\n",
    "with open('../data-in/json-files/ibadan_json_file_c100m.json', 'w') as f:\n",
    "    json.dump(json_data, f)"
   ]
  },
  {
   "cell_type": "code",
   "execution_count": 28,
   "metadata": {
    "execution": {
     "iopub.execute_input": "2024-04-26T21:07:58.693408Z",
     "iopub.status.busy": "2024-04-26T21:07:58.692873Z",
     "iopub.status.idle": "2024-04-26T21:07:58.701442Z",
     "shell.execute_reply": "2024-04-26T21:07:58.700062Z",
     "shell.execute_reply.started": "2024-04-26T21:07:58.693378Z"
    }
   },
   "outputs": [],
   "source": [
    "# json_data"
   ]
  },
  {
   "cell_type": "markdown",
   "metadata": {},
   "source": [
    "#### GeoJSON Files"
   ]
  },
  {
   "cell_type": "code",
   "execution_count": 27,
   "metadata": {
    "execution": {
     "iopub.execute_input": "2024-04-26T21:07:37.816826Z",
     "iopub.status.busy": "2024-04-26T21:07:37.816326Z",
     "iopub.status.idle": "2024-04-26T21:07:37.872204Z",
     "shell.execute_reply": "2024-04-26T21:07:37.871942Z",
     "shell.execute_reply.started": "2024-04-26T21:07:37.816789Z"
    }
   },
   "outputs": [],
   "source": [
    "settings = {\n",
    "    \"properties_to_include\" : [\"city\", \"ward\", 'ea_code', 'EAS', 'Settlement'],\n",
    "    'extracted_features' : ['Longitude', 'Latitude'],\n",
    "    \"distance\" : {'width' : 10, 'height': 10}, # Width and height are messured in miters. \n",
    "    'shape_type' : 'Polygon' # Polygone, Point, Both\n",
    "}\n",
    "\n",
    "geojson_data = df_to_geojson(ib_data, settings)\n",
    "# Save GeoJSON to a file\n",
    "with open('../data-in/json-files/ibadan_json_file_c10m.geojson', 'w') as f:\n",
    "    geojson.dump(geojson_data, f)\n",
    "\n",
    "    "
   ]
  },
  {
   "cell_type": "code",
   "execution_count": 29,
   "metadata": {
    "execution": {
     "iopub.execute_input": "2024-04-26T21:08:03.786185Z",
     "iopub.status.busy": "2024-04-26T21:08:03.785096Z",
     "iopub.status.idle": "2024-04-26T21:08:03.790023Z",
     "shell.execute_reply": "2024-04-26T21:08:03.789080Z",
     "shell.execute_reply.started": "2024-04-26T21:08:03.786140Z"
    }
   },
   "outputs": [],
   "source": [
    "# geojson_data"
   ]
  },
  {
   "cell_type": "code",
   "execution_count": null,
   "metadata": {},
   "outputs": [],
   "source": []
  },
  {
   "cell_type": "code",
   "execution_count": null,
   "metadata": {},
   "outputs": [],
   "source": []
  }
 ],
 "metadata": {
  "kernelspec": {
   "display_name": "EarthScienceAIresearch",
   "language": "python",
   "name": "earthscienceairesearch"
  },
  "language_info": {
   "codemirror_mode": {
    "name": "ipython",
    "version": 3
   },
   "file_extension": ".py",
   "mimetype": "text/x-python",
   "name": "python",
   "nbconvert_exporter": "python",
   "pygments_lexer": "ipython3",
   "version": "3.11.7"
  }
 },
 "nbformat": 4,
 "nbformat_minor": 4
}
