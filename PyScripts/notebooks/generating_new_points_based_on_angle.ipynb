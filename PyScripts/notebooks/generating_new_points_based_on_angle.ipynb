{
 "cells": [
  {
   "cell_type": "code",
   "execution_count": 3,
   "metadata": {},
   "outputs": [],
   "source": [
    "import os\n",
    "import sys\n",
    "import pandas as pd\n",
    "import geopandas as gpd\n",
    "import matplotlib.pyplot as plt\n",
    "from shapely.geometry import Point\n",
    "import math\n",
    "import json\n",
    "import pandas as pd\n",
    "from sklearn import preprocessing\n",
    "le = preprocessing.LabelEncoder()\n",
    "import numpy as np\n",
    "from sklearn.neighbors import NearestNeighbors\n"
   ]
  },
  {
   "cell_type": "code",
   "execution_count": 4,
   "metadata": {},
   "outputs": [
    {
     "data": {
      "text/plain": [
       "((378, 8),\n",
       " Index(['city', 'ward', 'ea_code', 'EAS', 'Longitude', 'Latitude', 'Settlement',\n",
       "        'geometry'],\n",
       "       dtype='object'))"
      ]
     },
     "execution_count": 4,
     "metadata": {},
     "output_type": "execute_result"
    }
   ],
   "source": [
    "fname = \"./ibadan_EAs_of_interest_v2/shapefile_of_Ibadan_EAs_of_interest_v2.shx\"\n",
    "ib_data = gpd.read_file(fname)\n",
    "ib_data.shape, ib_data.columns\n"
   ]
  },
  {
   "cell_type": "code",
   "execution_count": 5,
   "metadata": {},
   "outputs": [],
   "source": [
    "# Convert all variations of 'slum' to 'slum'\n",
    "ib_data['Settlement'] = ib_data['Settlement'].replace(['Slum', 'slums'], 'slum')\n",
    "ib_data['Settlement'] = ib_data['Settlement'].replace(['Informal'], 'informal')\n",
    "ib_data['Settlement'] = ib_data['Settlement'].replace(['Formal'], 'formal')\n"
   ]
  },
  {
   "cell_type": "code",
   "execution_count": 6,
   "metadata": {},
   "outputs": [
    {
     "data": {
      "text/plain": [
       "(85, 8)"
      ]
     },
     "execution_count": 6,
     "metadata": {},
     "output_type": "execute_result"
    }
   ],
   "source": [
    "ib_data_bashorum = ib_data.loc[(ib_data['ward'] == \"Bashorun\")]\n",
    "ib_data_bashorum.shape\n"
   ]
  },
  {
   "cell_type": "code",
   "execution_count": 7,
   "metadata": {},
   "outputs": [
    {
     "data": {
      "text/html": [
       "<div>\n",
       "<style scoped>\n",
       "    .dataframe tbody tr th:only-of-type {\n",
       "        vertical-align: middle;\n",
       "    }\n",
       "\n",
       "    .dataframe tbody tr th {\n",
       "        vertical-align: top;\n",
       "    }\n",
       "\n",
       "    .dataframe thead th {\n",
       "        text-align: right;\n",
       "    }\n",
       "</style>\n",
       "<table border=\"1\" class=\"dataframe\">\n",
       "  <thead>\n",
       "    <tr style=\"text-align: right;\">\n",
       "      <th></th>\n",
       "      <th>city</th>\n",
       "      <th>ward</th>\n",
       "      <th>ea_code</th>\n",
       "      <th>EAS</th>\n",
       "      <th>Longitude</th>\n",
       "      <th>Latitude</th>\n",
       "      <th>Settlement</th>\n",
       "      <th>geometry</th>\n",
       "    </tr>\n",
       "  </thead>\n",
       "  <tbody>\n",
       "    <tr>\n",
       "      <th>91</th>\n",
       "      <td>Ibadan</td>\n",
       "      <td>Bashorun</td>\n",
       "      <td>Ba_001</td>\n",
       "      <td>Back of Ibadan Civic Center</td>\n",
       "      <td>3.922842</td>\n",
       "      <td>7.401855</td>\n",
       "      <td>formal</td>\n",
       "      <td>POINT (3.92284 7.40186)</td>\n",
       "    </tr>\n",
       "    <tr>\n",
       "      <th>92</th>\n",
       "      <td>Ibadan</td>\n",
       "      <td>Bashorun</td>\n",
       "      <td>Ba_002</td>\n",
       "      <td>Yidi Road</td>\n",
       "      <td>3.923192</td>\n",
       "      <td>7.400557</td>\n",
       "      <td>informal</td>\n",
       "      <td>POINT (3.92319 7.40056)</td>\n",
       "    </tr>\n",
       "    <tr>\n",
       "      <th>93</th>\n",
       "      <td>Ibadan</td>\n",
       "      <td>Bashorun</td>\n",
       "      <td>Ba_007</td>\n",
       "      <td>IKOLABA GRAMMAR SCHOOL</td>\n",
       "      <td>3.921463</td>\n",
       "      <td>7.400783</td>\n",
       "      <td>formal</td>\n",
       "      <td>POINT (3.92146 7.40078)</td>\n",
       "    </tr>\n",
       "    <tr>\n",
       "      <th>94</th>\n",
       "      <td>Ibadan</td>\n",
       "      <td>Bashorun</td>\n",
       "      <td>Ba_008</td>\n",
       "      <td>Sholotan Street</td>\n",
       "      <td>3.918868</td>\n",
       "      <td>7.410633</td>\n",
       "      <td>formal</td>\n",
       "      <td>POINT (3.91887 7.41063)</td>\n",
       "    </tr>\n",
       "    <tr>\n",
       "      <th>95</th>\n",
       "      <td>Ibadan</td>\n",
       "      <td>Bashorun</td>\n",
       "      <td>Ba_010</td>\n",
       "      <td>Ikolaba Central Mosque</td>\n",
       "      <td>3.919921</td>\n",
       "      <td>7.410540</td>\n",
       "      <td>informal</td>\n",
       "      <td>POINT (3.91992 7.41054)</td>\n",
       "    </tr>\n",
       "  </tbody>\n",
       "</table>\n",
       "</div>"
      ],
      "text/plain": [
       "      city      ward ea_code                          EAS  Longitude  \\\n",
       "91  Ibadan  Bashorun  Ba_001  Back of Ibadan Civic Center   3.922842   \n",
       "92  Ibadan  Bashorun  Ba_002                    Yidi Road   3.923192   \n",
       "93  Ibadan  Bashorun  Ba_007       IKOLABA GRAMMAR SCHOOL   3.921463   \n",
       "94  Ibadan  Bashorun  Ba_008              Sholotan Street   3.918868   \n",
       "95  Ibadan  Bashorun  Ba_010       Ikolaba Central Mosque   3.919921   \n",
       "\n",
       "    Latitude Settlement                 geometry  \n",
       "91  7.401855     formal  POINT (3.92284 7.40186)  \n",
       "92  7.400557   informal  POINT (3.92319 7.40056)  \n",
       "93  7.400783     formal  POINT (3.92146 7.40078)  \n",
       "94  7.410633     formal  POINT (3.91887 7.41063)  \n",
       "95  7.410540   informal  POINT (3.91992 7.41054)  "
      ]
     },
     "execution_count": 7,
     "metadata": {},
     "output_type": "execute_result"
    }
   ],
   "source": [
    "ib_data_bashorum.head()\n"
   ]
  },
  {
   "cell_type": "code",
   "execution_count": 8,
   "metadata": {},
   "outputs": [],
   "source": [
    "longitudes = ib_data_bashorum['Longitude'].tolist()\n",
    "latitudes = ib_data_bashorum['Latitude'].tolist()\n"
   ]
  },
  {
   "cell_type": "code",
   "execution_count": 9,
   "metadata": {},
   "outputs": [],
   "source": [
    "le.fit(ib_data_bashorum['Settlement'])\n",
    "labels = le.transform(ib_data_bashorum['Settlement'])\n"
   ]
  },
  {
   "cell_type": "code",
   "execution_count": 10,
   "metadata": {},
   "outputs": [
    {
     "data": {
      "text/plain": [
       "(85,\n",
       " 85,\n",
       " 85,\n",
       " array([0, 1, 0, 0, 1]),\n",
       " [3.922842, 3.923192, 3.921463, 3.918868, 3.919921],\n",
       " [7.401855, 7.400557, 7.400783, 7.410633, 7.41054])"
      ]
     },
     "execution_count": 10,
     "metadata": {},
     "output_type": "execute_result"
    }
   ],
   "source": [
    "len(labels), len(longitudes), len(latitudes), labels[:5], longitudes[:5], latitudes[:5]\n"
   ]
  },
  {
   "cell_type": "code",
   "execution_count": 11,
   "metadata": {},
   "outputs": [
    {
     "data": {
      "text/plain": [
       "[0, 1, 2]"
      ]
     },
     "execution_count": 11,
     "metadata": {},
     "output_type": "execute_result"
    }
   ],
   "source": [
    "checker = []\n",
    "for label in labels:\n",
    "    if not label in checker:\n",
    "        checker.append(label)\n",
    "checker\n"
   ]
  },
  {
   "cell_type": "code",
   "execution_count": 77,
   "metadata": {},
   "outputs": [],
   "source": [
    "\n",
    "def knn_function(longitudes, latitudes):\n",
    "    # Sample data: latitudes, longitudes, and corresponding labels\n",
    "    # Assuming you have your data stored in arrays latitudes, longitudes, and labels\n",
    "\n",
    "    # Define the number of nearest neighbors to consider\n",
    "    k_neighbors = 5\n",
    "\n",
    "    # Initialize NearestNeighbors model\n",
    "    nbrs = NearestNeighbors(n_neighbors=k_neighbors).fit(np.column_stack((longitudes, latitudes)))\n",
    "\n",
    "    return nbrs\n"
   ]
  },
  {
   "cell_type": "code",
   "execution_count": 75,
   "metadata": {},
   "outputs": [],
   "source": [
    "def calculate_knn(knn_function, longitude, latitude):\n",
    "    # takes the knn function and calculate the k_nearest neighbor for each of the points.\n",
    "    # returns the neighbor indices and distances of to nearest neighbor\n",
    "    distances, indices = knn_function.kneighbors([[longitude, latitude]])\n",
    "    return distances, indices\n"
   ]
  },
  {
   "cell_type": "code",
   "execution_count": 82,
   "metadata": {},
   "outputs": [],
   "source": []
  },
  {
   "cell_type": "code",
   "execution_count": 83,
   "metadata": {},
   "outputs": [],
   "source": [
    "def neighbor_distance(distances, indices): \n",
    "    # taking the full list of distance and indices and excluding the centeroid pointer from them.\n",
    "    distances = distances[0][1:]\n",
    "    indices = indices[0][1:]\n",
    "    return distances, indices\n"
   ]
  },
  {
   "cell_type": "code",
   "execution_count": 84,
   "metadata": {},
   "outputs": [
    {
     "data": {
      "text/plain": [
       "(array([0.00134436, 0.00174666, 0.00653373, 0.00676615]), array([1, 2, 9, 8]))"
      ]
     },
     "execution_count": 84,
     "metadata": {},
     "output_type": "execute_result"
    }
   ],
   "source": []
  },
  {
   "cell_type": "code",
   "execution_count": 87,
   "metadata": {},
   "outputs": [],
   "source": [
    "def extracting_pointer(longitudes = None, latitudes = None, labels = None, indices = neighbor_indices):\n",
    "    coordinate = [[long, lat, lab] for long, lat, lab in zip(longitudes, latitudes, labels)]\n",
    "    neighborhood_pointers = [coordinate[x] for x in indices]\n",
    "    return neighborhood_pointers\n"
   ]
  },
  {
   "cell_type": "code",
   "execution_count": 88,
   "metadata": {},
   "outputs": [
    {
     "data": {
      "text/plain": [
       "[[3.923192, 7.400557, 1],\n",
       " [3.921463, 7.400783, 0],\n",
       " [3.927483, 7.406454, 1],\n",
       " [3.927309, 7.406937, 1]]"
      ]
     },
     "execution_count": 88,
     "metadata": {},
     "output_type": "execute_result"
    }
   ],
   "source": []
  },
  {
   "cell_type": "code",
   "execution_count": null,
   "metadata": {},
   "outputs": [],
   "source": [
    "# centeroid_pointer = [longitudes[0], latitudes[0], labels[0]]\n"
   ]
  },
  {
   "cell_type": "code",
   "execution_count": 91,
   "metadata": {},
   "outputs": [],
   "source": [
    "import math\n",
    "\n",
    "def calculate_angle(x1, y1, x2, y2):\n",
    "    # Calculate the rise (vertical distance) and run (horizontal distance)\n",
    "    rise = y2 - y1\n",
    "    run = x2 - x1\n",
    "    \n",
    "    # Use atan2 to find the angle in radians\n",
    "    angle_radians = math.atan2(rise, run)\n",
    "    \n",
    "    # Convert radians to degrees\n",
    "    angle_degrees = math.degrees(angle_radians)\n",
    "\n",
    "    if angle_degrees < 0:\n",
    "        angle_degrees = (180 + angle_degrees) + 180\n",
    "    \n",
    "    return angle_degrees\n",
    "\n",
    "# Example usage:\n",
    "# point_a = (0, 0)\n",
    "# point_b = (10, 10)\n",
    "# angle = calculate_angle(point_a[0], point_a[1], point_b[0], point_b[1])\n",
    "\n",
    "# print(f\"The angle between Point A and Point B is approximately {angle:.2f} degrees.\")\n",
    "\n",
    "def group_neighbor_pointers(neiboring_coordinates, labels, centeroid_pointer):\n",
    "    result = []\n",
    "    index = 0\n",
    "    for neighbor, label in zip(neiboring_coordinates, labels):\n",
    "        centeroid = (4, 4)\n",
    "        angle = calculate_angle(centeroid_pointer[0], centeroid_pointer[1], neighbor[0], neighbor[1])\n",
    "        temp = [index, centeroid_pointer[0], centeroid_pointer[1], label, neighbor[0], neighbor[1], angle] # The label of the neighbor data could be added too. \n",
    "        result.append(temp)\n",
    "        index += 1\n",
    "    return result\n"
   ]
  },
  {
   "cell_type": "code",
   "execution_count": 93,
   "metadata": {},
   "outputs": [
    {
     "data": {
      "text/plain": [
       "[[0, 3.922842, 7.401855, 0, 3.923192, 7.400557, 285.0906479714303],\n",
       " [1, 3.922842, 7.401855, 1, 3.921463, 7.400783, 217.8605985699418],\n",
       " [2, 3.922842, 7.401855, 0, 3.927483, 7.406454, 44.73956643218602],\n",
       " [3, 3.922842, 7.401855, 0, 3.927309, 7.406937, 48.68502512159898]]"
      ]
     },
     "execution_count": 93,
     "metadata": {},
     "output_type": "execute_result"
    }
   ],
   "source": []
  },
  {
   "cell_type": "code",
   "execution_count": 96,
   "metadata": {},
   "outputs": [],
   "source": [
    "def sort_angle_based(grouped_center_neighborhood):\n",
    "    # Sort the list based on the angle\n",
    "    data_sorted_angles = sorted(grouped_center_neighborhood, key=lambda x: x[-1])\n",
    "    return data_sorted_angles\n"
   ]
  },
  {
   "cell_type": "code",
   "execution_count": 98,
   "metadata": {},
   "outputs": [
    {
     "data": {
      "text/plain": [
       "[[2, 3.922842, 7.401855, 0, 3.927483, 7.406454, 44.73956643218602],\n",
       " [3, 3.922842, 7.401855, 0, 3.927309, 7.406937, 48.68502512159898],\n",
       " [1, 3.922842, 7.401855, 1, 3.921463, 7.400783, 217.8605985699418],\n",
       " [0, 3.922842, 7.401855, 0, 3.923192, 7.400557, 285.0906479714303]]"
      ]
     },
     "execution_count": 98,
     "metadata": {},
     "output_type": "execute_result"
    }
   ],
   "source": []
  },
  {
   "cell_type": "code",
   "execution_count": 99,
   "metadata": {},
   "outputs": [],
   "source": [
    "def calculate_angle_section(sorted_cng):\n",
    "    prev_angle_point = 0\n",
    "    next_angle_point = 0\n",
    "    mid_angle_point = 0\n",
    "    previous_mid_angle_point = 0\n",
    "    data_mid_section = []\n",
    "    for i in range(len(sorted_cng)):\n",
    "        if i == 0:\n",
    "            # if i == 1: we will start with its initial step and calculate the next step based on that what is next, half of the arch\n",
    "            current_point_angle = sorted_cng[i][-1] # angle index\n",
    "            prev_angle_point = current_point_angle\n",
    "            next_angle_point = sorted_cng[i+1][-1] \n",
    "            mid_angle_point = (next_angle_point + prev_angle_point) / 2\n",
    "            data_mid_section.append([prev_angle_point, mid_angle_point])\n",
    "            prev_angle_point = next_angle_point # swap the places of next with prev\n",
    "            previous_mid_angle_point = mid_angle_point\n",
    "\n",
    "        elif i == len(sorted_cng)-1:\n",
    "            # take the angle of its previous value and evaluate the next with the index of 0.\n",
    "            current_point_angle = sorted_cng[i][-1] # angle index\n",
    "            prev_angle_point = current_point_angle\n",
    "            next_angle_point = sorted_cng[0][-1] \n",
    "            mid_angle_point = ((360 + prev_angle_point + next_angle_point) / 2)\n",
    "            data_mid_section.append([previous_mid_angle_point, mid_angle_point])\n",
    "            if mid_angle_point < 360:\n",
    "                data_mid_section[0][0] = mid_angle_point - 360\n",
    "        else: \n",
    "            # calcuate the section for normal values.  \n",
    "            current_point_angle = prev_angle_point\n",
    "            next_angle_point = sorted_cng[i+1][-1] \n",
    "            mid_angle_point = (next_angle_point + previous_mid_angle_point) / 2\n",
    "            data_mid_section.append([previous_mid_angle_point, mid_angle_point])\n",
    "            prev_angle_point = next_angle_point # swap the places of next with prev\n",
    "            previous_mid_angle_point = mid_angle_point\n",
    "\n",
    "\n",
    "    return data_mid_section\n"
   ]
  },
  {
   "cell_type": "code",
   "execution_count": 100,
   "metadata": {},
   "outputs": [
    {
     "data": {
      "text/plain": [
       "[[-15.084892798191788, 46.7122957768925],\n",
       " [46.7122957768925, 132.28644717341714],\n",
       " [132.28644717341714, 208.68854757242372],\n",
       " [208.68854757242372, 344.9151072018082]]"
      ]
     },
     "execution_count": 100,
     "metadata": {},
     "output_type": "execute_result"
    }
   ],
   "source": []
  },
  {
   "cell_type": "code",
   "execution_count": 102,
   "metadata": {},
   "outputs": [],
   "source": [
    "def generate_points_in_circle_sections(angle_ranges, distance, num_points_per_section, centeroid):\n",
    "    \n",
    "    # Initialize lists to store points for each section\n",
    "    section_points = [[] for _ in range(len(angle_ranges))]\n",
    "    \n",
    "    for section_index, (start_angle, end_angle) in enumerate(angle_ranges):\n",
    "        # Generate random distances for points in this section\n",
    "        distances = np.random.uniform(0, distance[section_index]/2, num_points_per_section)\n",
    "        \n",
    "        # Generate random angles within the section\n",
    "        angles = np.random.uniform(start_angle, end_angle, num_points_per_section)\n",
    "        \n",
    "        # Convert angles to radians\n",
    "        angles_rad = np.radians(angles)\n",
    "        \n",
    "        # Calculate (x, y) coordinates for each point\n",
    "        x = (distances * np.cos(angles_rad)) + centeroid[0]\n",
    "        y = (distances * np.sin(angles_rad)) + centeroid[1]\n",
    "        \n",
    "        # Store the points for this section\n",
    "        section_points[section_index] = np.column_stack((x, y))\n",
    "    \n",
    "    return section_points\n"
   ]
  },
  {
   "cell_type": "code",
   "execution_count": 106,
   "metadata": {},
   "outputs": [
    {
     "data": {
      "image/png": "[encoded data removed]",
      "text/plain": [
       "<Figure size 640x480 with 1 Axes>"
      ]
     },
     "metadata": {},
     "output_type": "display_data"
    }
   ],
   "source": [
    "# # Parameters\n",
    "# distance = neighbor_distances / 2  # Maximum distance from the center\n",
    "# num_points_per_section = 20  # Number of points to generate per section\n",
    "\n",
    "# # Generate points in circular sections\n",
    "# section_points = generate_points_in_circle_sections(section_angles, neighbor_distances, num_points_per_section, centeroid_pointer)\n",
    "\n",
    "# # Scatter plot for each section\n",
    "# fig, ax = plt.subplots()\n",
    "# for section_index, points in enumerate(section_points):\n",
    "#     ax.scatter(points[:, 0], points[:, 1], label=f\"Section {section_index+1}\")\n",
    "\n",
    "# ax.set_aspect('equal', 'box')\n",
    "# ax.legend()\n",
    "# plt.xlabel('X')\n",
    "# plt.ylabel('Y')\n",
    "# plt.title('Points in Circular Sections')\n",
    "# plt.grid(True)\n",
    "# plt.show()\n"
   ]
  },
  {
   "cell_type": "code",
   "execution_count": 133,
   "metadata": {},
   "outputs": [],
   "source": [
    "def data_generator_pipeline(knn_func, longitudes, latitudes, labels, ceteroid_pointer):\n",
    "\n",
    "    distances, indices = calculate_knn(knn_function = knn_func, longitude = centeroid_pointer[0], latitude=centeroid_pointer[0])\n",
    "\n",
    "    neighbor_distances, neighbor_indices = neighbor_distance(distances, indices)\n",
    "    # print(f'neighbor_distance {neighbor_distances}, neighbor_indices {neighbor_indices}')\n",
    "\n",
    "    neiboring_coordinates = extracting_pointer(longitudes, latitudes, labels)\n",
    "    # print(f'neighboring_coordinate {neiboring_coordinates}')\n",
    "\n",
    "    grouped_center_neighborhood = group_neighbor_pointers(neiboring_coordinates, labels, centeroid_pointer)\n",
    "    # print(f'grouped_center_neighborhood: {grouped_center_neighborhood}')\n",
    "\n",
    "    sorted_cng = sort_angle_based(grouped_center_neighborhood)\n",
    "    # print(f'sorted_cng: {sorted_cng}')\n",
    "\n",
    "    section_angles = calculate_angle_section(sorted_cng)\n",
    "    # print(f'section_angles: {section_angles}')\n",
    "\n",
    "    # This part will be part of the loop as well. \n",
    "\n",
    "    # Parameters\n",
    "    distance = neighbor_distances / 2  # Maximum distance from the center\n",
    "    num_points_per_section = 20  # Number of points to generate per section\n",
    "\n",
    "    # Generate points in circular sections\n",
    "    section_points = generate_points_in_circle_sections(section_angles, neighbor_distances, num_points_per_section, centeroid_pointer)\n",
    "    return section_points\n",
    "        "
   ]
  },
  {
   "cell_type": "code",
   "execution_count": 140,
   "metadata": {},
   "outputs": [],
   "source": [
    "knn_func = knn_function(longitudes, latitudes) # passing the list of longitudes and latitudes\n",
    "centeroid = [longitudes[0], latitudes[0]]\n",
    "section_points = data_generator_pipeline(knn_func, longitudes, latitudes, labels, centeroid)\n"
   ]
  },
  {
   "cell_type": "code",
   "execution_count": 141,
   "metadata": {},
   "outputs": [
    {
     "data": {
      "image/png": "[encoded data removed]",
      "text/plain": [
       "<Figure size 640x480 with 1 Axes>"
      ]
     },
     "metadata": {},
     "output_type": "display_data"
    }
   ],
   "source": [
    "# Scatter plot for each section\n",
    "fig, ax = plt.subplots()\n",
    "for section_index, points in enumerate(section_points):\n",
    "    ax.scatter(points[:, 0], points[:, 1], label=f\"Section {section_index+1}\")\n",
    "\n",
    "ax.set_aspect('equal', 'box')\n",
    "ax.legend()\n",
    "plt.xlabel('X')\n",
    "plt.ylabel('Y')\n",
    "plt.title('Points in Circular Sections')\n",
    "plt.grid(True)\n",
    "plt.show()\n"
   ]
  },
  {
   "cell_type": "code",
   "execution_count": null,
   "metadata": {},
   "outputs": [],
   "source": [
    "def data_preprocessing_pipeline(df): # dataframe or the path to the dataframe\n",
    "    # the \n",
    "    pass\n"
   ]
  },
  {
   "cell_type": "code",
   "execution_count": 147,
   "metadata": {},
   "outputs": [],
   "source": [
    "def main_pipeline(longitudes, latitudes, labels):\n",
    "    knn_func = knn_function(longitudes, latitudes) # passing the list of longitudes and latitudes\n",
    "\n",
    "    data_points = [] # list of all the coordinates\n",
    "\n",
    "    for long, lat, lab in zip(longitudes, latitudes, labels):\n",
    "        centroid = [long, lat, lab]\n",
    "        section_points = data_generator_pipeline(knn_func, longitudes, latitudes, labels, centeroid)\n",
    "\n",
    "        for section in section_points:\n",
    "            for angle_site in section:\n",
    "                data_points.append([angle_site[0], angle_site[1], centroid[2]])\n",
    "\n",
    "        data_points.append(centroid)\n",
    "\n",
    "    return data_points\n"
   ]
  },
  {
   "cell_type": "code",
   "execution_count": 151,
   "metadata": {},
   "outputs": [
    {
     "data": {
      "text/plain": [
       "85"
      ]
     },
     "execution_count": 151,
     "metadata": {},
     "output_type": "execute_result"
    }
   ],
   "source": [
    "len(longitudes)\n"
   ]
  },
  {
   "cell_type": "code",
   "execution_count": 148,
   "metadata": {},
   "outputs": [
    {
     "data": {
      "text/plain": [
       "6885"
      ]
     },
     "execution_count": 148,
     "metadata": {},
     "output_type": "execute_result"
    }
   ],
   "source": [
    "data_result = main_pipeline(longitudes, latitudes, labels)\n",
    "len(data_result)\n"
   ]
  },
  {
   "cell_type": "code",
   "execution_count": 149,
   "metadata": {},
   "outputs": [],
   "source": [
    "columns = ['Longitude', 'Latitude', 'Settlement']\n",
    "genratedData = pd.DataFrame(data_result, columns = columns)\n"
   ]
  },
  {
   "cell_type": "code",
   "execution_count": 150,
   "metadata": {},
   "outputs": [],
   "source": [
    "def df_to_json(df, settings, additional_features = False):\n",
    "    \"\"\"\n",
    "    Convert a DataFrame with longitude and latitude columns to a JSON format with specified structure.\n",
    "    \n",
    "    Parameters:\n",
    "    - df: DataFrame containing the data\n",
    "    - setting: include all the feature that need to be included. \n",
    "    - polygon: polygon the polygon shape that needs to be created based on the given latitude and longitude\n",
    "    \n",
    "    Returns:\n",
    "    - JSON formatted data\n",
    "    \"\"\"\n",
    "    features = []\n",
    "    coordinates = settings['extracted_features']\n",
    "    properties = settings['properties_to_include']\n",
    "    sparcity = settings['distance']\n",
    "    additional_feature_items = settings[\"class_specification\"]\n",
    "    \n",
    "    for _, row in df.iterrows():\n",
    "        # Extract longitude and latitude\n",
    "        lon = row[coordinates[0]]\n",
    "        lat = row[coordinates[1]]\n",
    "        \n",
    "        # Create properties dictionary\n",
    "        # Extract longitude and latitude\n",
    "        lon = row[coordinates[0]]\n",
    "        lat = row[coordinates[1]]\n",
    "        \n",
    "        # Create properties dictionary\n",
    "        if properties:\n",
    "            props = {prop: row[prop] for prop in properties}\n",
    "            if additional_features:\n",
    "                for k, v in additional_feature_items.items():\n",
    "                    if k == \"marker-color\":\n",
    "                        # print(row['Settlement'])\n",
    "                        props[k] = v[(row['Settlement'])]\n",
    "                    else:\n",
    "                        props[k] = v\n",
    "                        \n",
    "\n",
    "        else:\n",
    "            props = {}\n",
    "        \n",
    "        # Add longitude and latitude to properties\n",
    "        props[coordinates[0]] = lon\n",
    "        props[coordinates[1]] = lat\n",
    "        if settings['shape_type'] == 'Polygon' or settings['shape_type'] == 'Both': \n",
    "            # shape = [generate_rectangle(lon, lat, sparcity['width'], sparcity['height'])]\n",
    "            # Create GeoJSON feature\n",
    "            feature = {\n",
    "                \"type\": \"Feature\",\n",
    "                \"properties\": props,\n",
    "                \"geometry\": {\n",
    "                    \"type\": \"Polygon\",\n",
    "                    \"coordinates\": shape\n",
    "                }\n",
    "            }\n",
    "            features.append(feature)\n",
    "        if settings['shape_type'] == \"Point\" or settings['shape_type'] == 'Both': \n",
    "            shape = [lon, lat]\n",
    "            feature = {\n",
    "                \"type\": \"Feature\",\n",
    "                \"properties\": props,\n",
    "                \"geometry\": {\n",
    "                    \"type\": \"Point\",\n",
    "                    \"coordinates\": shape\n",
    "                }\n",
    "            }\n",
    "\n",
    "\n",
    "            features.append(feature)\n",
    "    \n",
    "    # Create FeatureCollection\n",
    "    feature_collection = {\n",
    "        \"type\": \"FeatureCollection\",\n",
    "        \"features\": features\n",
    "    }\n",
    "    \n",
    "    return feature_collection\n",
    "\n",
    "# Example usage:\n",
    "# Assuming your DataFrame is named 'df' and contains columns: city, ward, ea_code, EAS, Longitude, Latitude, Settlement, geometry\n",
    "# And you want to include city, ward, ea_code, EAS, Settlement in the properties\n",
    "additional_features = {\n",
    "        \"marker-size\": 'small',\n",
    "        \"marker-color\": {\n",
    "                0 : \"#FF0000\",\n",
    "                1 : \"#00FF00\",\n",
    "                2 : \"#0000FF\"\n",
    "        },\n",
    "        \"marker-symbol\": 'circle'\n",
    "    }\n",
    "\n",
    "settings = {\n",
    "    \"properties_to_include\" : ['Settlement'],\n",
    "    'extracted_features' : ['Longitude', 'Latitude'],\n",
    "    \"distance\" : {'width' : 50, 'height': 50}, # Width and height are messured in miters. \n",
    "    'shape_type' : 'Point', # Polygone, Point, Both\n",
    "    \"class_specification\" : additional_features\n",
    "}\n",
    "\n",
    "json_data = df_to_json(genratedData, settings, additional_features = True)\n",
    "\n",
    "# Save JSON to a file\n",
    "with open('Ibadan_Bashorun_AOI_GeneratedPointers_angle_v1.json', 'w') as f:\n",
    "    json.dump(json_data, f)\n"
   ]
  }
 ],
 "metadata": {
  "kernelspec": {
   "display_name": "mal_proj",
   "language": "python",
   "name": "python3"
  },
  "language_info": {
   "codemirror_mode": {
    "name": "ipython",
    "version": 3
   },
   "file_extension": ".py",
   "mimetype": "text/x-python",
   "name": "python",
   "nbconvert_exporter": "python",
   "pygments_lexer": "ipython3",
   "version": "3.11.7"
  }
 },
 "nbformat": 4,
 "nbformat_minor": 2
}
