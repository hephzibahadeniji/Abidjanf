{
 "cells": [
  {
   "cell_type": "markdown",
   "metadata": {},
   "source": [
    "# Sentinel-2 Image Downloading \n",
    "\n",
    "The notebook presents the data download script from Google Earth Engine, formatting the images for preprocessing."
   ]
  },
  {
   "cell_type": "markdown",
   "metadata": {},
   "source": [
    "### How to Install"
   ]
  },
  {
   "cell_type": "markdown",
   "metadata": {
    "jupyter": {
     "source_hidden": true
    }
   },
   "source": [
    "1. Install conda environment.\n",
    "\n",
    "```\n",
    "conda env create -f processing_environment.yml\n",
    "conda activate ee\n",
    "```\n",
    "  \n",
    "2. Install kernel.\n",
    "\n",
    "```\n",
    "python -m ipykernel install --user --name ee --display-name \"ee kernel\"\n",
    "```\n",
    "\n",
    "3. In new notebook from jupylab, select kernel 'ee kernel'\n",
    "\n",
    "Source on how to install ee: https://developers.google.com/earth-engine/python_install-conda"
   ]
  },
  {
   "cell_type": "markdown",
   "metadata": {},
   "source": [
    "### How to Add New Areas"
   ]
  },
  {
   "cell_type": "markdown",
   "metadata": {
    "jupyter": {
     "source_hidden": true
    }
   },
   "source": [
    "In utils/gee_settings.py\n",
    "1. In 'areas' list, include area, removing spaces i.e. Villa del Rosario > villadelrosario\n",
    "2. In BBOX dict, add bounding box arranged as a list of 4 numbers, upper left and lower right\n",
    "3. In CLOUD_PARAMS dict, specify cloud filter and if will be masked or not\n",
    "4. In admin2RefN, add name in Admin Boundary shapefile\n",
    "\n",
    "Once downloaded file shows in gs://immap-gee\n",
    "1. check if the area is split into multiple files\n",
    "2. If yes, add area to multi-part list in Section Input params"
   ]
  },
  {
   "cell_type": "markdown",
   "metadata": {},
   "source": [
    "## Imports of Required Packages and Setup\n",
    "\n",
    "\n",
    "### Import Python packages"
   ]
  },
  {
   "cell_type": "code",
   "execution_count": 11,
   "metadata": {},
   "outputs": [],
   "source": [
    "import os\n",
    "import sys\n",
    "import geopandas as gpd\n",
    "from fiona.crs import to_string\n",
    "import pathlib\n",
    "from tqdm import tqdm\n"
   ]
  },
  {
   "cell_type": "markdown",
   "metadata": {},
   "source": [
    "### Import customized modules"
   ]
  },
  {
   "cell_type": "code",
   "execution_count": 12,
   "metadata": {},
   "outputs": [],
   "source": [
    "### Add local modules to the path\n",
    "src = os.path.abspath('../scripts')\n",
    "if src not in sys.path:\n",
    "    # sys.path.append(src)\n",
    "    sys.path.insert(0, src)\n"
   ]
  },
  {
   "cell_type": "code",
   "execution_count": 13,
   "metadata": {},
   "outputs": [],
   "source": [
    "from gee import sen2median, deflatecrop1\n",
    "from gee_settings import BBOX, CLOUD_PARAMS, admin2RefN\n",
    "from mkdir import check_create_dir\n"
   ]
  },
  {
   "cell_type": "code",
   "execution_count": null,
   "metadata": {},
   "outputs": [],
   "source": []
  },
  {
   "cell_type": "markdown",
   "metadata": {},
   "source": [
    "## Setup useful directories"
   ]
  },
  {
   "cell_type": "code",
   "execution_count": 4,
   "metadata": {},
   "outputs": [
    {
     "data": {
      "text/plain": [
       "'/Users/ldjeutsch/Offliners/PYTHON-DATA-SCI/UM-Project/Abidjan/outputs'"
      ]
     },
     "execution_count": 4,
     "metadata": {},
     "output_type": "execute_result"
    }
   ],
   "source": [
    "### Define working base path\n",
    "root = os.path.abspath(\"../../../../Abidjan/outputs\")\n",
    "root\n"
   ]
  },
  {
   "cell_type": "code",
   "execution_count": 5,
   "metadata": {},
   "outputs": [],
   "source": [
    "# Define working path \n",
    "data_dir = os.path.join(root, \"data\")\n",
    "adm_dir = os.path.join(data_dir, \"admin_bounds\")\n",
    "img_dir = os.path.join(data_dir, \"images\")\n",
    "tmp_dir = os.path.join(data_dir, \"tmp\")\n"
   ]
  },
  {
   "cell_type": "code",
   "execution_count": 6,
   "metadata": {},
   "outputs": [
    {
     "name": "stdout",
     "output_type": "stream",
     "text": [
      "The folder '/Users/ldjeutsch/Offliners/PYTHON-DATA-SCI/UM-Project/Abidjan/outputs/data' already exists\n",
      "The folder '/Users/ldjeutsch/Offliners/PYTHON-DATA-SCI/UM-Project/Abidjan/outputs/data/admin_bounds' already exists\n",
      "The folder '/Users/ldjeutsch/Offliners/PYTHON-DATA-SCI/UM-Project/Abidjan/outputs/data/images' already exists\n",
      "The folder '/Users/ldjeutsch/Offliners/PYTHON-DATA-SCI/UM-Project/Abidjan/outputs/data/tmp' already exists\n"
     ]
    }
   ],
   "source": [
    "### Check and create output data directory if needed\n",
    "list_directories = [data_dir, adm_dir, img_dir, tmp_dir]\n",
    "for path in list_directories:\n",
    "    check_create_dir(path) \n"
   ]
  },
  {
   "cell_type": "code",
   "execution_count": 7,
   "metadata": {},
   "outputs": [],
   "source": [
    "### Get area shape file\n",
    "# gdf = gpd.read_file(adm_dir + 'admin_bounds.gpkg')\n",
    "# fcrs = to_string({'init': 'epsg:4326', 'no_defs': True})\n",
    "# gdf.crs = fcrs\n"
   ]
  },
  {
   "cell_type": "code",
   "execution_count": null,
   "metadata": {},
   "outputs": [],
   "source": []
  },
  {
   "cell_type": "markdown",
   "metadata": {},
   "source": [
    "## Input params"
   ]
  },
  {
   "cell_type": "code",
   "execution_count": 8,
   "metadata": {},
   "outputs": [],
   "source": [
    "PRODUCT = 'COPERNICUS/S2_SR' # L2A\n",
    "years = ['2020-2021', '2022-2023']\n",
    "def get_minmaxdt(year_str):\n",
    "    list_ = year_str.split('-')\n",
    "    return list_[0] + '-09-01', list_[1] + '-12-31'\n",
    "\n",
    "ibadan_eas = []\n",
    "\n",
    "ibadan_lga = ['Ibadan North', 'Ibadan North West', 'Ibadan North East', 'Ibadan South West', 'Ibadan South East']\n"
   ]
  },
  {
   "cell_type": "code",
   "execution_count": null,
   "metadata": {},
   "outputs": [],
   "source": []
  },
  {
   "cell_type": "markdown",
   "metadata": {},
   "source": [
    "## Download from GEE"
   ]
  },
  {
   "cell_type": "code",
   "execution_count": 5,
   "metadata": {
    "scrolled": true
   },
   "outputs": [
    {
     "name": "stdout",
     "output_type": "stream",
     "text": [
      "Processing gee_pereira_2015-2016\n",
      "using COPERNICUS/S2\n",
      "Filtering to images with cloud cover < 40\n",
      "with mask\n",
      "Task started\n",
      "Processing gee_pereira_2017-2018\n",
      "using COPERNICUS/S2\n",
      "Filtering to images with cloud cover < 40\n",
      "with mask\n",
      "Task started\n",
      "Processing gee_pereira_2019-2020\n",
      "using COPERNICUS/S2\n",
      "Filtering to images with cloud cover < 40\n",
      "with mask\n",
      "Task started\n",
      "Processing gee_chia_2015-2016\n",
      "using COPERNICUS/S2\n",
      "Filtering to images with cloud cover < 20\n",
      "with mask\n",
      "Task started\n",
      "Processing gee_chia_2017-2018\n",
      "using COPERNICUS/S2\n",
      "Filtering to images with cloud cover < 40\n",
      "with mask\n",
      "Task started\n",
      "Processing gee_chia_2019-2020\n",
      "using COPERNICUS/S2\n",
      "Filtering to images with cloud cover < 40\n",
      "with mask\n",
      "Task started\n",
      "Processing gee_pamplona_2015-2016\n",
      "using COPERNICUS/S2\n",
      "Filtering to images with cloud cover < 40\n",
      "with mask\n",
      "Task started\n",
      "Processing gee_pamplona_2017-2018\n",
      "using COPERNICUS/S2\n",
      "Filtering to images with cloud cover < 40\n",
      "with mask\n",
      "Task started\n",
      "Processing gee_pamplona_2019-2020\n",
      "using COPERNICUS/S2\n",
      "Filtering to images with cloud cover < 40\n",
      "with mask\n",
      "Task started\n",
      "Processing gee_rionegroantioquia_2015-2016\n",
      "using COPERNICUS/S2\n",
      "Filtering to images with cloud cover < 40\n",
      "with mask\n",
      "Task started\n",
      "Processing gee_rionegroantioquia_2017-2018\n",
      "using COPERNICUS/S2\n",
      "Filtering to images with cloud cover < 40\n",
      "with mask\n",
      "Task started\n",
      "Processing gee_rionegroantioquia_2019-2020\n",
      "using COPERNICUS/S2\n",
      "Filtering to images with cloud cover < 40\n",
      "with mask\n",
      "Task started\n",
      "Processing gee_lospatios_2015-2016\n",
      "using COPERNICUS/S2\n",
      "Filtering to images with cloud cover < 40\n",
      "with mask\n",
      "Task started\n",
      "Processing gee_lospatios_2017-2018\n",
      "using COPERNICUS/S2\n",
      "Filtering to images with cloud cover < 40\n",
      "with mask\n",
      "Task started\n",
      "Processing gee_lospatios_2019-2020\n",
      "using COPERNICUS/S2\n",
      "Filtering to images with cloud cover < 40\n",
      "with mask\n",
      "Task started\n",
      "Processing gee_envigado_2015-2016\n",
      "using COPERNICUS/S2\n",
      "Filtering to images with cloud cover < 40\n",
      "with mask\n",
      "Task started\n",
      "Processing gee_envigado_2017-2018\n",
      "using COPERNICUS/S2\n",
      "Filtering to images with cloud cover < 40\n",
      "with mask\n",
      "Task started\n",
      "Processing gee_envigado_2019-2020\n",
      "using COPERNICUS/S2\n",
      "Filtering to images with cloud cover < 40\n",
      "with mask\n",
      "Task started\n",
      "Processing gee_magangue_2015-2016\n",
      "using COPERNICUS/S2\n",
      "Filtering to images with cloud cover < 40\n",
      "with mask\n",
      "Task started\n",
      "Processing gee_magangue_2017-2018\n",
      "using COPERNICUS/S2\n",
      "Filtering to images with cloud cover < 40\n",
      "with mask\n",
      "Task started\n",
      "Processing gee_magangue_2019-2020\n",
      "using COPERNICUS/S2\n",
      "Filtering to images with cloud cover < 40\n",
      "with mask\n",
      "Task started\n",
      "Processing gee_armenia_2015-2016\n",
      "using COPERNICUS/S2\n",
      "Filtering to images with cloud cover < 40\n",
      "with mask\n",
      "Task started\n",
      "Processing gee_armenia_2017-2018\n",
      "using COPERNICUS/S2\n",
      "Filtering to images with cloud cover < 40\n",
      "with mask\n",
      "Task started\n",
      "Processing gee_armenia_2019-2020\n",
      "using COPERNICUS/S2\n",
      "Filtering to images with cloud cover < 40\n",
      "with mask\n",
      "Task started\n",
      "Processing gee_jamundi_2015-2016\n",
      "using COPERNICUS/S2\n",
      "Filtering to images with cloud cover < 20\n",
      "with no mask\n",
      "Task started\n",
      "Processing gee_jamundi_2017-2018\n",
      "using COPERNICUS/S2\n",
      "Filtering to images with cloud cover < 40\n",
      "with mask\n",
      "Task started\n",
      "Processing gee_jamundi_2019-2020\n",
      "using COPERNICUS/S2\n",
      "Filtering to images with cloud cover < 40\n",
      "with mask\n",
      "Task started\n",
      "Processing gee_barrancabermeja_2015-2016\n",
      "using COPERNICUS/S2\n",
      "Filtering to images with cloud cover < 10\n",
      "with no mask\n",
      "Task started\n",
      "Processing gee_barrancabermeja_2017-2018\n",
      "using COPERNICUS/S2\n",
      "Filtering to images with cloud cover < 40\n",
      "with mask\n",
      "Task started\n",
      "Processing gee_barrancabermeja_2019-2020\n",
      "using COPERNICUS/S2\n",
      "Filtering to images with cloud cover < 40\n",
      "with mask\n",
      "Task started\n",
      "Processing gee_zipaquira_2015-2016\n",
      "using COPERNICUS/S2\n",
      "Filtering to images with cloud cover < 20\n",
      "with mask\n",
      "Task started\n",
      "Processing gee_zipaquira_2017-2018\n",
      "using COPERNICUS/S2\n",
      "Filtering to images with cloud cover < 40\n",
      "with mask\n",
      "Task started\n",
      "Processing gee_zipaquira_2019-2020\n",
      "using COPERNICUS/S2\n",
      "Filtering to images with cloud cover < 40\n",
      "with mask\n",
      "Task started\n",
      "Processing gee_ibague_2015-2016\n",
      "using COPERNICUS/S2\n",
      "Filtering to images with cloud cover < 100\n",
      "with mask\n",
      "Task started\n",
      "Processing gee_ibague_2017-2018\n",
      "using COPERNICUS/S2\n",
      "Filtering to images with cloud cover < 40\n",
      "with mask\n",
      "Task started\n",
      "Processing gee_ibague_2019-2020\n",
      "using COPERNICUS/S2\n",
      "Filtering to images with cloud cover < 40\n",
      "with mask\n",
      "Task started\n",
      "Processing gee_chinacota_2015-2016\n",
      "using COPERNICUS/S2\n",
      "Filtering to images with cloud cover < 40\n",
      "with mask\n",
      "Task started\n",
      "Processing gee_chinacota_2017-2018\n",
      "using COPERNICUS/S2\n",
      "Filtering to images with cloud cover < 40\n",
      "with mask\n",
      "Task started\n",
      "Processing gee_chinacota_2019-2020\n",
      "using COPERNICUS/S2\n",
      "Filtering to images with cloud cover < 40\n",
      "with mask\n",
      "Task started\n",
      "Processing gee_barrancas_2015-2016\n",
      "using COPERNICUS/S2\n",
      "Filtering to images with cloud cover < 40\n",
      "with mask\n",
      "Task started\n",
      "Processing gee_barrancas_2017-2018\n",
      "using COPERNICUS/S2\n",
      "Filtering to images with cloud cover < 40\n",
      "with mask\n",
      "Task started\n",
      "Processing gee_barrancas_2019-2020\n",
      "using COPERNICUS/S2\n",
      "Filtering to images with cloud cover < 40\n",
      "with mask\n",
      "Task started\n",
      "Processing gee_tunja_2015-2016\n",
      "using COPERNICUS/S2\n",
      "Filtering to images with cloud cover < 20\n",
      "with mask\n",
      "Task started\n",
      "Processing gee_tunja_2017-2018\n",
      "using COPERNICUS/S2\n",
      "Filtering to images with cloud cover < 40\n",
      "with mask\n",
      "Task started\n",
      "Processing gee_tunja_2019-2020\n",
      "using COPERNICUS/S2\n",
      "Filtering to images with cloud cover < 40\n",
      "with mask\n",
      "Task started\n",
      "Processing gee_dosquebradas_2015-2016\n",
      "using COPERNICUS/S2\n",
      "Filtering to images with cloud cover < 40\n",
      "with mask\n",
      "Task started\n",
      "Processing gee_dosquebradas_2017-2018\n",
      "using COPERNICUS/S2\n",
      "Filtering to images with cloud cover < 40\n",
      "with mask\n",
      "Task started\n",
      "Processing gee_dosquebradas_2019-2020\n",
      "using COPERNICUS/S2\n",
      "Filtering to images with cloud cover < 40\n",
      "with mask\n",
      "Task started\n",
      "Processing gee_tumaco_2015-2016\n",
      "using COPERNICUS/S2\n",
      "Filtering to images with cloud cover < 40\n",
      "with mask\n",
      "Task started\n",
      "Processing gee_tumaco_2017-2018\n",
      "using COPERNICUS/S2\n",
      "Filtering to images with cloud cover < 40\n",
      "with mask\n",
      "Task started\n",
      "Processing gee_tumaco_2019-2020\n",
      "using COPERNICUS/S2\n",
      "Filtering to images with cloud cover < 40\n",
      "with mask\n",
      "Task started\n",
      "Processing gee_mosquera_2015-2016\n",
      "using COPERNICUS/S2\n",
      "Filtering to images with cloud cover < 20\n",
      "with mask\n",
      "Task started\n",
      "Processing gee_mosquera_2017-2018\n",
      "using COPERNICUS/S2\n",
      "Filtering to images with cloud cover < 40\n",
      "with mask\n",
      "Task started\n",
      "Processing gee_mosquera_2019-2020\n",
      "using COPERNICUS/S2\n",
      "Filtering to images with cloud cover < 40\n",
      "with mask\n",
      "Task started\n",
      "Processing gee_manizales_2015-2016\n",
      "using COPERNICUS/S2\n",
      "Filtering to images with cloud cover < 40\n",
      "with mask\n",
      "Task started\n",
      "Processing gee_manizales_2017-2018\n",
      "using COPERNICUS/S2\n",
      "Filtering to images with cloud cover < 40\n",
      "with mask\n",
      "Task started\n",
      "Processing gee_manizales_2019-2020\n",
      "using COPERNICUS/S2\n",
      "Filtering to images with cloud cover < 40\n",
      "with mask\n",
      "Task started\n",
      "Processing gee_ipiales_2015-2016\n",
      "using COPERNICUS/S2\n",
      "Filtering to images with cloud cover < 60\n",
      "with mask\n",
      "Task started\n",
      "Processing gee_ipiales_2017-2018\n",
      "using COPERNICUS/S2\n",
      "Filtering to images with cloud cover < 40\n",
      "with mask\n",
      "Task started\n",
      "Processing gee_ipiales_2019-2020\n",
      "using COPERNICUS/S2\n",
      "Filtering to images with cloud cover < 40\n",
      "with mask\n",
      "Task started\n",
      "Processing gee_giron_2015-2016\n",
      "using COPERNICUS/S2\n",
      "Filtering to images with cloud cover < 20\n",
      "with mask\n",
      "Task started\n",
      "Processing gee_giron_2017-2018\n",
      "using COPERNICUS/S2\n",
      "Filtering to images with cloud cover < 40\n",
      "with mask\n",
      "Task started\n",
      "Processing gee_giron_2019-2020\n",
      "using COPERNICUS/S2\n",
      "Filtering to images with cloud cover < 40\n",
      "with mask\n",
      "Task started\n",
      "Processing gee_villavicencio_2015-2016\n",
      "using COPERNICUS/S2\n",
      "Filtering to images with cloud cover < 40\n",
      "with mask\n",
      "Task started\n",
      "Processing gee_villavicencio_2017-2018\n",
      "using COPERNICUS/S2\n",
      "Filtering to images with cloud cover < 40\n",
      "with mask\n",
      "Task started\n",
      "Processing gee_villavicencio_2019-2020\n",
      "using COPERNICUS/S2\n",
      "Filtering to images with cloud cover < 40\n",
      "with mask\n",
      "Task started\n",
      "Processing gee_madrid_2015-2016\n",
      "using COPERNICUS/S2\n",
      "Filtering to images with cloud cover < 40\n",
      "with mask\n",
      "Task started\n",
      "Processing gee_madrid_2017-2018\n",
      "using COPERNICUS/S2\n",
      "Filtering to images with cloud cover < 40\n",
      "with mask\n",
      "Task started\n",
      "Processing gee_madrid_2019-2020\n",
      "using COPERNICUS/S2\n",
      "Filtering to images with cloud cover < 40\n",
      "with mask\n",
      "Task started\n"
     ]
    }
   ],
   "source": [
    "for ea in ibadan_eas:\n",
    "    for year in years:\n",
    "        cloud_pct, mask = CLOUD_PARAMS[ea][year]\n",
    "        min_dt, max_dt = get_minmaxdt(year)\n",
    "        sen2median(\n",
    "            BBOX[ea], \n",
    "            FILENAME = f'gee_{ea}_{year}', \n",
    "            min_dt = min_dt, \n",
    "            max_dt = max_dt,\n",
    "            cloud_pct = cloud_pct, \n",
    "            mask = mask,\n",
    "            PRODUCT = PRODUCT,\n",
    "            verbose = 1\n",
    "        )\n"
   ]
  },
  {
   "cell_type": "markdown",
   "metadata": {},
   "source": [
    "## Deflate and crop"
   ]
  },
  {
   "cell_type": "code",
   "execution_count": 6,
   "metadata": {},
   "outputs": [],
   "source": [
    "# create shapefiles for cropping\n",
    "for area in areas:\n",
    "    area1 = gdf[gdf['admin2RefN'] == admin2RefN[area]]\n",
    "    area1.to_file(adm_dir + area + '.shp')\n"
   ]
  },
  {
   "cell_type": "code",
   "execution_count": 7,
   "metadata": {},
   "outputs": [],
   "source": [
    "# collect filenames to be processed\n",
    "files_ = []\n",
    "\n",
    "for area in areas:\n",
    "    for year in years:\n",
    "        if area in multipart:\n",
    "            # just get the largest part\n",
    "            files_.append(f'gee_{area}_{year}0000000000-0000000000')\n",
    "        else:\n",
    "            files_.append(f'gee_{area}_{year}')\n"
   ]
  },
  {
   "cell_type": "code",
   "execution_count": null,
   "metadata": {},
   "outputs": [
    {
     "name": "stderr",
     "output_type": "stream",
     "text": [
      "  3%|▎         | 2/69 [05:19<2:58:26, 159.81s/it]"
     ]
    }
   ],
   "source": [
    "for f in tqdm(files_):\n",
    "    deflatecrop1(\n",
    "        raw_filename = f, \n",
    "        output_dir = img_dir, \n",
    "        adm_dir = adm_dir,\n",
    "        tmp_dir = tmp_dir,\n",
    "        bucket = 'gs://immap-images/20200613/',\n",
    "        clear_local = True\n",
    "    )\n"
   ]
  },
  {
   "cell_type": "code",
   "execution_count": 12,
   "metadata": {},
   "outputs": [
    {
     "data": {
      "text/plain": [
       "2"
      ]
     },
     "execution_count": 12,
     "metadata": {},
     "output_type": "execute_result"
    }
   ],
   "source": [
    "1+1\n"
   ]
  },
  {
   "cell_type": "code",
   "execution_count": null,
   "metadata": {},
   "outputs": [],
   "source": []
  },
  {
   "cell_type": "code",
   "execution_count": null,
   "metadata": {},
   "outputs": [],
   "source": []
  }
 ],
 "metadata": {
  "kernelspec": {
   "display_name": "Python 3",
   "language": "python",
   "name": "python3"
  },
  "language_info": {
   "codemirror_mode": {
    "name": "ipython",
    "version": 3
   },
   "file_extension": ".py",
   "mimetype": "text/x-python",
   "name": "python",
   "nbconvert_exporter": "python",
   "pygments_lexer": "ipython3",
   "version": "3.11.7"
  }
 },
 "nbformat": 4,
 "nbformat_minor": 4
}
